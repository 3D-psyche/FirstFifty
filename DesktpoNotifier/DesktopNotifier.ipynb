{
 "cells": [
  {
   "cell_type": "markdown",
   "metadata": {},
   "source": [
    "### Loding Libararies"
   ]
  },
  {
   "cell_type": "code",
   "execution_count": 1,
   "metadata": {},
   "outputs": [],
   "source": [
    "import os \n",
    "import json\n",
    "import requests"
   ]
  },
  {
   "cell_type": "code",
   "execution_count": 2,
   "metadata": {},
   "outputs": [],
   "source": [
    "import time\n",
    "import datetime"
   ]
  },
  {
   "cell_type": "code",
   "execution_count": 4,
   "metadata": {},
   "outputs": [],
   "source": [
    "from win10toast import ToastNotifier"
   ]
  },
  {
   "cell_type": "markdown",
   "metadata": {},
   "source": [
    "#### Testing Notifier"
   ]
  },
  {
   "cell_type": "code",
   "execution_count": 8,
   "metadata": {},
   "outputs": [
    {
     "data": {
      "text/plain": [
       "True"
      ]
     },
     "execution_count": 8,
     "metadata": {},
     "output_type": "execute_result"
    }
   ],
   "source": [
    "test_toaster = ToastNotifier()\n",
    "\n",
    "title = 'Hello Amazing people!'\n",
    "message= 'Thankyou for reading! Take care!'\n",
    "\n",
    "test_toaster.show_toast(title, message)"
   ]
  },
  {
   "cell_type": "markdown",
   "metadata": {},
   "source": [
    "### Functions"
   ]
  },
  {
   "cell_type": "code",
   "execution_count": 16,
   "metadata": {},
   "outputs": [],
   "source": [
    "### ----- CREATING NOTIFIER -----\n",
    "# covid-19 notifier\n",
    "def covid_notifier(covid_data):\n",
    "    toaster = ToastNotifier()\n",
    "    toaster.show_toast(\n",
    "        f\"Covid19 Stats on {datetime.date.today()}\",\n",
    "        f\"Country name = {covid_data['country']}\\nTotal cases = {covid_data['cases']}\\nTotal deaths = {covid_data['deaths']}\\nTotal active ={covid_data['active']}\",\n",
    "        duration = 10\n",
    "    )"
   ]
  },
  {
   "cell_type": "markdown",
   "metadata": {},
   "source": [
    "### Covid-19 Noifier"
   ]
  },
  {
   "cell_type": "code",
   "execution_count": 9,
   "metadata": {},
   "outputs": [],
   "source": [
    "## --- Global Vars ---\n",
    "BASE_URL = \"https://corona-rest-api.herokuapp.com/Api/\"\n",
    "DEF_URL = BASE_URL + \"india\""
   ]
  },
  {
   "cell_type": "code",
   "execution_count": 11,
   "metadata": {},
   "outputs": [],
   "source": [
    "countries= \"United States,Afghanistan,Albania,Algeria,American Samoa,Andorra,Angola,Anguilla,Antarctica,Antigua And Barbuda,Argentina,Armenia,Aruba,Australia,Austria,Azerbaijan,Bahamas,Bahrain,Bangladesh,Barbados,Belarus,Belgium,Belize,Benin,Bermuda,Bhutan,Bolivia,Bosnia And Herzegowina,Botswana,Bouvet Island,Brazil,Brunei Darussalam,Bulgaria,Burkina Faso,Burundi,Cambodia,Cameroon,Canada,Cape Verde,Cayman Islands,Central African Rep,Chad,Chile,China,Christmas Island,Cocos Islands,Colombia,Comoros,Congo,Cook Islands,Costa Rica,Cote D`ivoire,Croatia,Cuba,Cyprus,Czech Republic,Denmark,Djibouti,Dominica,Dominican Republic,East Timor,Ecuador,Egypt,El Salvador,Equatorial Guinea,Eritrea,Estonia,Ethiopia,Falkland Islands (Malvinas),Faroe Islands,Fiji,Finland,France,French Guiana,French Polynesia,French S. Territories,Gabon,Gambia,Georgia,Germany,Ghana,Gibraltar,Greece,Greenland,Grenada,Guadeloupe,Guam,Guatemala,Guinea,Guinea-bissau,Guyana,Haiti,Honduras,Hong Kong,Hungary,Iceland,India,Indonesia,Iran,Iraq,Ireland,Israel,Italy,Jamaica,Japan,Jordan,Kazakhstan,Kenya,Kiribati,Korea (North),Korea (South),Kuwait,Kyrgyzstan,Laos,Latvia,Lebanon,Lesotho,Liberia,Libya,Liechtenstein,Lithuania,Luxembourg,Macau,Macedonia,Madagascar,Malawi,Malaysia,Maldives,Mali,Malta,Marshall Islands,Martinique,Mauritania,Mauritius,Mayotte,Mexico,Micronesia,Moldova,Monaco,Mongolia,Montserrat,Morocco,Mozambique,Myanmar,Namibia,Nauru,Nepal,Netherlands,Netherlands Antilles,New Caledonia,New Zealand,Nicaragua,Niger,Nigeria,Niue,Norfolk Island,Northern Mariana Islands,Norway,Oman,Pakistan,Palau,Panama,Papua New Guinea,Paraguay,Peru,Philippines,Pitcairn,Poland,Portugal,Puerto Rico,Qatar,Reunion,Romania,Russian Federation,Rwanda,Saint Kitts And Nevis,Saint Lucia,St Vincent/Grenadines,Samoa,San Marino,Sao Tome,Saudi Arabia,Senegal,Seychelles,Sierra Leone,Singapore,Slovakia,Slovenia,Solomon Islands,Somalia,South Africa,Spain,Sri Lanka,St. Helena,St.Pierre,Sudan,Suriname,Swaziland,Sweden,Switzerland,Syrian Arab Republic,Taiwan,Tajikistan,Tanzania,Thailand,Togo,Tokelau,Tonga,Trinidad And Tobago,Tunisia,Turkey,Turkmenistan,Tuvalu,Uganda,Ukraine,United Arab Emirates,United Kingdom,Uruguay,Uzbekistan,Vanuatu,Vatican City State,Venezuela,Viet Nam,Virgin Islands (British),Virgin Islands (U.S.),Western Sahara,Yemen,Yugoslavia,Zaire,Zambia,Zimbabwe\".split(\",\")\n",
    "countries_low = \"united states,afghanistan,albania,algeria,american samoa,andorra,angola,anguilla,antarctica,antigua and barbuda,argentina,armenia,aruba,australia,austria,azerbaijan,bahamas,bahrain,bangladesh,barbados,belarus,belgium,belize,benin,bermuda,bhutan,bolivia,bosnia and herzegowina,botswana,bouvet island,brazil,brunei darussalam,bulgaria,burkina faso,burundi,cambodia,cameroon,canada,cape verde,cayman islands,central african rep,chad,chile,china,christmas island,cocos islands,colombia,comoros,congo,cook islands,costa rica,cote d`ivoire,croatia,cuba,cyprus,czech republic,denmark,djibouti,dominica,dominican republic,east timor,ecuador,egypt,el salvador,equatorial guinea,eritrea,estonia,ethiopia,falkland islands (malvinas),faroe islands,fiji,finland,france,french guiana,french polynesia,french s. territories,gabon,gambia,georgia,germany,ghana,gibraltar,greece,greenland,grenada,guadeloupe,guam,guatemala,guinea,guinea-bissau,guyana,haiti,honduras,hong kong,hungary,iceland,india,indonesia,iran,iraq,ireland,israel,italy,jamaica,japan,jordan,kazakhstan,kenya,kiribati,korea (north),korea (south),kuwait,kyrgyzstan,laos,latvia,lebanon,lesotho,liberia,libya,liechtenstein,lithuania,luxembourg,macau,macedonia,madagascar,malawi,malaysia,maldives,mali,malta,marshall islands,martinique,mauritania,mauritius,mayotte,mexico,micronesia,moldova,monaco,mongolia,montserrat,morocco,mozambique,myanmar,namibia,nauru,nepal,netherlands,netherlands antilles,new caledonia,new zealand,nicaragua,niger,nigeria,niue,norfolk island,northern mariana islands,norway,oman,pakistan,palau,panama,papua new guinea,paraguay,peru,philippines,pitcairn,poland,portugal,puerto rico,qatar,reunion,romania,russian federation,rwanda,saint kitts and nevis,saint lucia,st vincent/grenadines,samoa,san marino,sao tome,saudi arabia,senegal,seychelles,sierra leone,singapore,slovakia,slovenia,solomon islands,somalia,south africa,spain,sri lanka,st. helena,st.pierre,sudan,suriname,swaziland,sweden,switzerland,syrian arab republic,taiwan,tajikistan,tanzania,thailand,togo,tokelau,tonga,trinidad and tobago,tunisia,turkey,turkmenistan,tuvalu,uganda,ukraine,united arab emirates,united kingdom,uruguay,uzbekistan,vanuatu,vatican city state,venezuela,viet nam,virgin islands (british),virgin islands (u.s.),western sahara,yemen,yugoslavia,zaire,zambia,zimbabwe\".split(\",\")"
   ]
  },
  {
   "cell_type": "code",
   "execution_count": 12,
   "metadata": {},
   "outputs": [
    {
     "name": "stdout",
     "output_type": "stream",
     "text": [
      "Enter country name :\n"
     ]
    }
   ],
   "source": [
    "# deciding the country\n",
    "cntry = input(\"Enter country name :\")\n",
    "\n",
    "if len(cntry) >= 1 : \n",
    "    while cntry.lower() not in countries_low : \n",
    "        cntry = input(\"Please Enter Again:\")"
   ]
  },
  {
   "cell_type": "code",
   "execution_count": 17,
   "metadata": {},
   "outputs": [],
   "source": [
    "try:\n",
    "    if len(cntry) < 1:\n",
    "        res = requests.get(DEF_URL)\n",
    "    else :\n",
    "        res = requests.get(BASE_URL + cntry)\n",
    "\n",
    "    tmp_data = res.json()[\"Success\"]\n",
    "\n",
    "    # getting notification\n",
    "    covid_notifier(tmp_data)\n",
    "except Exception as ex:\n",
    "    print(ex)"
   ]
  }
 ],
 "metadata": {
  "kernelspec": {
   "display_name": "Python 3",
   "language": "python",
   "name": "python3"
  },
  "language_info": {
   "codemirror_mode": {
    "name": "ipython",
    "version": 3
   },
   "file_extension": ".py",
   "mimetype": "text/x-python",
   "name": "python",
   "nbconvert_exporter": "python",
   "pygments_lexer": "ipython3",
   "version": "3.8.6"
  }
 },
 "nbformat": 4,
 "nbformat_minor": 4
}
